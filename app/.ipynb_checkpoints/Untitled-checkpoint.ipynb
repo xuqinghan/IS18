{
 "cells": [
  {
   "cell_type": "code",
   "execution_count": null,
   "metadata": {},
   "outputs": [],
   "source": [
    "# Standard modules used through the notebook \n",
    "import numpy as np\n",
    "import matplotlib.pyplot as plt\n",
    "\n",
    "# Tools specific for this tutorial\n",
    "# They are in the .py files accompaining this notebook \n",
    "import vistools      # display tools\n",
    "import utils         # IO tools\n",
    "import srtm4         # SRTM tools\n",
    "import rectification # rectification tools\n",
    "import stereo        # stereo tools\n",
    "import triangulation # triangulation tools\n",
    "from   vistools import printbf   # boldface print\n",
    "\n",
    "# Display and interface settings (just for the notebook interface)\n",
    "%load_ext autoreload\n",
    "%autoreload 2\n",
    "%matplotlib inline\n",
    "np.set_printoptions(linewidth=150)\n"
   ]
  },
  {
   "cell_type": "code",
   "execution_count": null,
   "metadata": {},
   "outputs": [],
   "source": [
    "# list the tiff images available in the remote folder\n",
    "IARPAurl = 'http://menthe.ovh.hw.ipol.im:/IARPA_data/cloud_optimized_geotif'\n",
    "print(IARPAurl)\n",
    "\n",
    "myimages = utils.listFD(IARPAurl, 'TIF')\n",
    "print(myimages)\n",
    "\n",
    "# sort the images by acquisition date\n",
    "myimages = sorted(myimages, key=utils.acquisition_date)\n",
    "print('Found {} images'.format(len(myimages)))\n",
    "\n",
    "# select the two images to start working\n",
    "idx_a, idx_b = 0, 5\n",
    "print(\"Images Used:\")\n",
    "print(myimages[idx_a])\n",
    "print(myimages[idx_b])"
   ]
  },
  {
   "cell_type": "code",
   "execution_count": null,
   "metadata": {
    "scrolled": true
   },
   "outputs": [],
   "source": [
    "# creates an interactive map and returns a map handle to interact with it.\n",
    "mymap = vistools.clickablemap(zoom=12)\n",
    "display(mymap)\n",
    "\n",
    "# display the footprint polygons of the satellite images \n",
    "for f in [idx_a, idx_b]:\n",
    "    \n",
    "    footprint = utils.get_image_longlat_polygon(myimages[f])\n",
    "    mymap.add_GeoJSON(footprint)\n",
    "\n",
    "# center the map on the center of the footprint\n",
    "mymap.center = np.mean(footprint['coordinates'][0][:4], axis=0).tolist()[::-1]"
   ]
  },
  {
   "cell_type": "code",
   "execution_count": null,
   "metadata": {},
   "outputs": [],
   "source": [
    "## set the coordinates of the area of interest as a GeoJSON polygon\n",
    "# Buenos aires AOI\n",
    "aoi_buenos_aires = {'coordinates': [[[-58.585185, -34.490883],\n",
    "   [-58.585185, -34.48922],\n",
    "   [-58.583104, -34.48922],\n",
    "   [-58.583104, -34.490883],\n",
    "   [-58.585185, -34.490883]]],\n",
    " 'type': 'Polygon'}\n",
    "# add center field\n",
    "aoi_buenos_aires['center'] = np.mean(aoi_buenos_aires['coordinates'][0][:4], axis=0).tolist()\n",
    "    \n",
    "# add a polygon and center the map\n",
    "mymap.add_GeoJSON(aoi_buenos_aires)  # this draws the polygon described by aoi\n",
    "mymap.center = aoi_buenos_aires['center'][::-1]  # aoi_buenos_aires['coordinates'][0][0][::-1] \n",
    "mymap.zoom = 15"
   ]
  },
  {
   "cell_type": "code",
   "execution_count": null,
   "metadata": {},
   "outputs": [],
   "source": []
  }
 ],
 "metadata": {
  "kernelspec": {
   "display_name": "Python 3",
   "language": "python",
   "name": "python3"
  },
  "language_info": {
   "codemirror_mode": {
    "name": "ipython",
    "version": 3
   },
   "file_extension": ".py",
   "mimetype": "text/x-python",
   "name": "python",
   "nbconvert_exporter": "python",
   "pygments_lexer": "ipython3",
   "version": "3.5.2"
  },
  "varInspector": {
   "cols": {
    "lenName": 16,
    "lenType": 16,
    "lenVar": 40
   },
   "kernels_config": {
    "python": {
     "delete_cmd_postfix": "",
     "delete_cmd_prefix": "del ",
     "library": "var_list.py",
     "varRefreshCmd": "print(var_dic_list())"
    },
    "r": {
     "delete_cmd_postfix": ") ",
     "delete_cmd_prefix": "rm(",
     "library": "var_list.r",
     "varRefreshCmd": "cat(var_dic_list()) "
    }
   },
   "types_to_exclude": [
    "module",
    "function",
    "builtin_function_or_method",
    "instance",
    "_Feature"
   ],
   "window_display": false
  }
 },
 "nbformat": 4,
 "nbformat_minor": 2
}
